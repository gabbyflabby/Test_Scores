{
 "cells": [
  {
   "cell_type": "markdown",
   "metadata": {},
   "source": [
    "# Hypothesis Testing"
   ]
  },
  {
   "cell_type": "markdown",
   "metadata": {},
   "source": [
    "Now that our data is clean, we can start asking questions about it. Let's import the clean data and take a look."
   ]
  },
  {
   "cell_type": "markdown",
   "metadata": {},
   "source": [
    "## Import Packages and Read in Data"
   ]
  },
  {
   "cell_type": "code",
   "execution_count": 13,
   "metadata": {},
   "outputs": [],
   "source": [
    "import pandas as pd\n",
    "import seaborn as sns\n",
    "import matplotlib.pyplot as plt\n",
    "%matplotlib inline\n",
    "import scipy.stats as stats\n",
    "from scipy.stats import ttest_ind\n",
    "from statsmodels.stats.power import TTestIndPower"
   ]
  },
  {
   "cell_type": "code",
   "execution_count": 2,
   "metadata": {},
   "outputs": [],
   "source": [
    "df = pd.read_csv('clean_data.csv')\n",
    "df.drop(columns=['Unnamed: 0'], inplace=True)"
   ]
  },
  {
   "cell_type": "code",
   "execution_count": 3,
   "metadata": {},
   "outputs": [
    {
     "data": {
      "text/html": [
       "<div>\n",
       "<style scoped>\n",
       "    .dataframe tbody tr th:only-of-type {\n",
       "        vertical-align: middle;\n",
       "    }\n",
       "\n",
       "    .dataframe tbody tr th {\n",
       "        vertical-align: top;\n",
       "    }\n",
       "\n",
       "    .dataframe thead th {\n",
       "        text-align: right;\n",
       "    }\n",
       "</style>\n",
       "<table border=\"1\" class=\"dataframe\">\n",
       "  <thead>\n",
       "    <tr style=\"text-align: right;\">\n",
       "      <th></th>\n",
       "      <th>grade</th>\n",
       "      <th>male</th>\n",
       "      <th>preschool</th>\n",
       "      <th>expectBachelors</th>\n",
       "      <th>motherHS</th>\n",
       "      <th>motherWork</th>\n",
       "      <th>fatherHS</th>\n",
       "      <th>fatherWork</th>\n",
       "      <th>selfBornUS</th>\n",
       "      <th>motherBornUS</th>\n",
       "      <th>...</th>\n",
       "      <th>urban</th>\n",
       "      <th>schoolSize</th>\n",
       "      <th>readingScore</th>\n",
       "      <th>American Indian/Alaska Native</th>\n",
       "      <th>Asian</th>\n",
       "      <th>Black</th>\n",
       "      <th>Hispanic</th>\n",
       "      <th>More than one race</th>\n",
       "      <th>Native Hawaiian/Other Pacific Islander</th>\n",
       "      <th>White</th>\n",
       "    </tr>\n",
       "  </thead>\n",
       "  <tbody>\n",
       "    <tr>\n",
       "      <td>0</td>\n",
       "      <td>9</td>\n",
       "      <td>1</td>\n",
       "      <td>1.0</td>\n",
       "      <td>1.0</td>\n",
       "      <td>1.0</td>\n",
       "      <td>1.0</td>\n",
       "      <td>1.0</td>\n",
       "      <td>1.0</td>\n",
       "      <td>1.0</td>\n",
       "      <td>1.0</td>\n",
       "      <td>...</td>\n",
       "      <td>0</td>\n",
       "      <td>1233.0</td>\n",
       "      <td>554.81</td>\n",
       "      <td>0</td>\n",
       "      <td>0</td>\n",
       "      <td>0</td>\n",
       "      <td>0</td>\n",
       "      <td>0</td>\n",
       "      <td>0</td>\n",
       "      <td>1</td>\n",
       "    </tr>\n",
       "    <tr>\n",
       "      <td>1</td>\n",
       "      <td>10</td>\n",
       "      <td>0</td>\n",
       "      <td>1.0</td>\n",
       "      <td>1.0</td>\n",
       "      <td>0.0</td>\n",
       "      <td>1.0</td>\n",
       "      <td>1.0</td>\n",
       "      <td>1.0</td>\n",
       "      <td>1.0</td>\n",
       "      <td>1.0</td>\n",
       "      <td>...</td>\n",
       "      <td>1</td>\n",
       "      <td>2640.0</td>\n",
       "      <td>458.11</td>\n",
       "      <td>0</td>\n",
       "      <td>0</td>\n",
       "      <td>1</td>\n",
       "      <td>0</td>\n",
       "      <td>0</td>\n",
       "      <td>0</td>\n",
       "      <td>0</td>\n",
       "    </tr>\n",
       "    <tr>\n",
       "      <td>2</td>\n",
       "      <td>10</td>\n",
       "      <td>1</td>\n",
       "      <td>1.0</td>\n",
       "      <td>0.0</td>\n",
       "      <td>1.0</td>\n",
       "      <td>1.0</td>\n",
       "      <td>1.0</td>\n",
       "      <td>0.0</td>\n",
       "      <td>1.0</td>\n",
       "      <td>1.0</td>\n",
       "      <td>...</td>\n",
       "      <td>1</td>\n",
       "      <td>1095.0</td>\n",
       "      <td>613.89</td>\n",
       "      <td>0</td>\n",
       "      <td>0</td>\n",
       "      <td>0</td>\n",
       "      <td>1</td>\n",
       "      <td>0</td>\n",
       "      <td>0</td>\n",
       "      <td>0</td>\n",
       "    </tr>\n",
       "    <tr>\n",
       "      <td>3</td>\n",
       "      <td>10</td>\n",
       "      <td>0</td>\n",
       "      <td>1.0</td>\n",
       "      <td>1.0</td>\n",
       "      <td>1.0</td>\n",
       "      <td>0.0</td>\n",
       "      <td>1.0</td>\n",
       "      <td>1.0</td>\n",
       "      <td>1.0</td>\n",
       "      <td>1.0</td>\n",
       "      <td>...</td>\n",
       "      <td>0</td>\n",
       "      <td>1913.0</td>\n",
       "      <td>439.36</td>\n",
       "      <td>0</td>\n",
       "      <td>0</td>\n",
       "      <td>0</td>\n",
       "      <td>0</td>\n",
       "      <td>0</td>\n",
       "      <td>0</td>\n",
       "      <td>1</td>\n",
       "    </tr>\n",
       "    <tr>\n",
       "      <td>4</td>\n",
       "      <td>9</td>\n",
       "      <td>0</td>\n",
       "      <td>1.0</td>\n",
       "      <td>0.0</td>\n",
       "      <td>1.0</td>\n",
       "      <td>1.0</td>\n",
       "      <td>0.0</td>\n",
       "      <td>1.0</td>\n",
       "      <td>1.0</td>\n",
       "      <td>1.0</td>\n",
       "      <td>...</td>\n",
       "      <td>1</td>\n",
       "      <td>502.0</td>\n",
       "      <td>428.96</td>\n",
       "      <td>0</td>\n",
       "      <td>0</td>\n",
       "      <td>0</td>\n",
       "      <td>0</td>\n",
       "      <td>0</td>\n",
       "      <td>0</td>\n",
       "      <td>1</td>\n",
       "    </tr>\n",
       "  </tbody>\n",
       "</table>\n",
       "<p>5 rows × 28 columns</p>\n",
       "</div>"
      ],
      "text/plain": [
       "   grade  male  preschool  expectBachelors  motherHS  motherWork  fatherHS  \\\n",
       "0      9     1        1.0              1.0       1.0         1.0       1.0   \n",
       "1     10     0        1.0              1.0       0.0         1.0       1.0   \n",
       "2     10     1        1.0              0.0       1.0         1.0       1.0   \n",
       "3     10     0        1.0              1.0       1.0         0.0       1.0   \n",
       "4      9     0        1.0              0.0       1.0         1.0       0.0   \n",
       "\n",
       "   fatherWork  selfBornUS  motherBornUS  ...  urban  schoolSize  readingScore  \\\n",
       "0         1.0         1.0           1.0  ...      0      1233.0        554.81   \n",
       "1         1.0         1.0           1.0  ...      1      2640.0        458.11   \n",
       "2         0.0         1.0           1.0  ...      1      1095.0        613.89   \n",
       "3         1.0         1.0           1.0  ...      0      1913.0        439.36   \n",
       "4         1.0         1.0           1.0  ...      1       502.0        428.96   \n",
       "\n",
       "   American Indian/Alaska Native  Asian  Black  Hispanic  More than one race  \\\n",
       "0                              0      0      0         0                   0   \n",
       "1                              0      0      1         0                   0   \n",
       "2                              0      0      0         1                   0   \n",
       "3                              0      0      0         0                   0   \n",
       "4                              0      0      0         0                   0   \n",
       "\n",
       "   Native Hawaiian/Other Pacific Islander  White  \n",
       "0                                       0      1  \n",
       "1                                       0      0  \n",
       "2                                       0      0  \n",
       "3                                       0      1  \n",
       "4                                       0      1  \n",
       "\n",
       "[5 rows x 28 columns]"
      ]
     },
     "execution_count": 3,
     "metadata": {},
     "output_type": "execute_result"
    }
   ],
   "source": [
    "df.head()"
   ]
  },
  {
   "cell_type": "markdown",
   "metadata": {},
   "source": [
    "## Observations"
   ]
  },
  {
   "cell_type": "markdown",
   "metadata": {},
   "source": [
    "This data provides a lot of categorical features we can test with! Here are a few that stood out to us:\n",
    "#### Students with working parents vs non working parents:"
   ]
  },
  {
   "cell_type": "code",
   "execution_count": 4,
   "metadata": {},
   "outputs": [
    {
     "name": "stdout",
     "output_type": "stream",
     "text": [
      "Mean reading score of students with a working parent: 524.81\n",
      "Mean reading score of students with unemployed parents: 495.77\n"
     ]
    }
   ],
   "source": [
    "working_parent_df = df[(df['fatherWork']==1) | (df['motherWork']==1)]\n",
    "unemployed_parents_df = df[(df['fatherWork']==0) & (df['motherWork']==0)]\n",
    "\n",
    "print(f\"Mean reading score of students with a working parent: {round(working_parent_df['readingScore'].mean(),2)}\")\n",
    "print(f\"Mean reading score of students with unemployed parents: {round(unemployed_parents_df['readingScore'].mean(),2)}\")            "
   ]
  },
  {
   "cell_type": "markdown",
   "metadata": {},
   "source": [
    "#### Students who speak english at home vs those who do not:"
   ]
  },
  {
   "cell_type": "code",
   "execution_count": 5,
   "metadata": {},
   "outputs": [
    {
     "name": "stdout",
     "output_type": "stream",
     "text": [
      "Mean reading score of students who speaks english at home: 527.25\n",
      "Mean reading score of students who doesn't speak english at home: 494.63\n"
     ]
    }
   ],
   "source": [
    "english_home_df = df[(df['englishAtHome']==1)]\n",
    "non_english_home_df = df[(df['englishAtHome']==0)]\n",
    "\n",
    "print(f\"Mean reading score of students who speaks english at home: {round(english_home_df['readingScore'].mean(),2)}\")\n",
    "print(f\"Mean reading score of students who doesn't speak english at home: {round(non_english_home_df['readingScore'].mean(),2)}\")"
   ]
  },
  {
   "cell_type": "markdown",
   "metadata": {},
   "source": [
    "#### Students with a parent that graduated high school vs those without one:"
   ]
  },
  {
   "cell_type": "code",
   "execution_count": 6,
   "metadata": {},
   "outputs": [
    {
     "name": "stdout",
     "output_type": "stream",
     "text": [
      "Mean reading score of students with a parent who graduated high school: 526.37\n",
      "Mean reading score of students without a parent who graduated high school: 478.93\n"
     ]
    }
   ],
   "source": [
    "hs_diploma_parent = df[(df['fatherHS']==1) | (df['motherHS']==1)]\n",
    "no_hs_diploma_parents = df[(df['fatherHS']==0) & (df['motherHS']==0)]\n",
    "\n",
    "print(f\"Mean reading score of students with a parent who graduated high school: {round(hs_diploma_parent['readingScore'].mean(),2)}\")\n",
    "print(f\"Mean reading score of students without a parent who graduated high school: {round(no_hs_diploma_parents['readingScore'].mean(),2)}\")"
   ]
  },
  {
   "cell_type": "markdown",
   "metadata": {},
   "source": [
    "#### Students who attend public school vs those who don't:"
   ]
  },
  {
   "cell_type": "code",
   "execution_count": 7,
   "metadata": {},
   "outputs": [
    {
     "name": "stdout",
     "output_type": "stream",
     "text": [
      "Mean reading score of students who attend public school: 520.63\n",
      "Mean reading score of students who don't attend public school: 551.61\n"
     ]
    }
   ],
   "source": [
    "public_school = df[(df['publicSchool']==1)]\n",
    "non_public_school = df[(df['publicSchool']==0)]\n",
    "\n",
    "print(f\"Mean reading score of students who attend public school: {round(public_school['readingScore'].mean(),2)}\")\n",
    "print(f\"Mean reading score of students who don't attend public school: {round(non_public_school['readingScore'].mean(),2)}\")"
   ]
  },
  {
   "cell_type": "markdown",
   "metadata": {},
   "source": [
    "#### Students with a parent from the US vs those without one:"
   ]
  },
  {
   "cell_type": "code",
   "execution_count": 8,
   "metadata": {},
   "outputs": [
    {
     "name": "stdout",
     "output_type": "stream",
     "text": [
      "Mean reading score of students with a parent who was born in the US: 526.95\n",
      "Mean reading score of students whose parents were not born in the US: 507.19\n"
     ]
    }
   ],
   "source": [
    "us_parent = df[(df['motherBornUS']==1) | (df['fatherBornUS']==1)]\n",
    "non_us_parents = df[(df['motherBornUS']==0) & (df['fatherBornUS']==0)]\n",
    "\n",
    "print(f\"Mean reading score of students with a parent who was born in the US: {round(us_parent['readingScore'].mean(),2)}\")\n",
    "print(f\"Mean reading score of students whose parents were not born in the US: {round(non_us_parents['readingScore'].mean(),2)}\")"
   ]
  },
  {
   "cell_type": "markdown",
   "metadata": {},
   "source": [
    "#### Average reading score for students of different races:"
   ]
  },
  {
   "cell_type": "code",
   "execution_count": 9,
   "metadata": {},
   "outputs": [],
   "source": [
    "#list of race dummy variables\n",
    "races = ['White', 'Black', 'Hispanic', 'More than one race', 'American Indian/Alaska Native', 'Asian', 'Native Hawaiian/Other Pacific Islander']"
   ]
  },
  {
   "cell_type": "code",
   "execution_count": 10,
   "metadata": {},
   "outputs": [
    {
     "data": {
      "text/plain": [
       "Text(0, 0.5, 'Average Score')"
      ]
     },
     "execution_count": 10,
     "metadata": {},
     "output_type": "execute_result"
    },
    {
     "data": {
      "image/png": "[encoded data removed]",
      "text/plain": [
       "<Figure size 576x360 with 1 Axes>"
      ]
     },
     "metadata": {
      "needs_background": "light"
     },
     "output_type": "display_data"
    }
   ],
   "source": [
    "# list of colors for our bars\n",
    "colors = ['#154360','#1A5276','#21618C','#117864','#0E6655','#196F3D','#1D8348']\n",
    "plt.figure(figsize=(8,5))\n",
    "\n",
    "# variable i which will iterate through our colors list\n",
    "i = 0\n",
    "\n",
    "for race in races:\n",
    "    # grab the average score for the current race\n",
    "    average_score = df[df[race]==1][['readingScore']].mean()\n",
    "    # add a bar to our plot\n",
    "    plt.bar(x=race,height=average_score,color=colors[i])\n",
    "    # incrementing our counter\n",
    "    i += 1\n",
    "    \n",
    "plt.xticks(rotation=70)\n",
    "plt.title('Reading Score vs Race',fontsize=15)\n",
    "plt.xlabel('Race',fontsize=15)\n",
    "plt.ylabel('Average Score',fontsize=15)"
   ]
  },
  {
   "cell_type": "markdown",
   "metadata": {},
   "source": [
    "#### How minutes per week in English class affects reading score:"
   ]
  },
  {
   "cell_type": "code",
   "execution_count": 11,
   "metadata": {},
   "outputs": [
    {
     "data": {
      "text/plain": [
       "Text(0, 0.5, 'Score')"
      ]
     },
     "execution_count": 11,
     "metadata": {},
     "output_type": "execute_result"
    },
    {
     "data": {
      "image/png": "[encoded data removed]",
      "text/plain": [
       "<Figure size 432x288 with 1 Axes>"
      ]
     },
     "metadata": {
      "needs_background": "light"
     },
     "output_type": "display_data"
    }
   ],
   "source": [
    "plt.scatter(x='minutesPerWeekEnglish',y='readingScore',data=df,color='#5B2C6F')\n",
    "plt.title('Weekly Minutes in English Class vs Reading Score',fontsize=15)\n",
    "plt.xlabel('Minutes in Class',fontsize=15)\n",
    "plt.ylabel('Score',fontsize=15)"
   ]
  },
  {
   "cell_type": "markdown",
   "metadata": {},
   "source": [
    "It looks like there is no obvious correlation between minutes in class and reading score"
   ]
  },
  {
   "cell_type": "markdown",
   "metadata": {},
   "source": [
    "#### 95% Confidence Interval for Mean of Population Reading Score"
   ]
  },
  {
   "cell_type": "code",
   "execution_count": 18,
   "metadata": {},
   "outputs": [
    {
     "name": "stdout",
     "output_type": "stream",
     "text": [
      "We are 95% certain the population mean is a value in the range 350.98 - 696.12.\n"
     ]
    }
   ],
   "source": [
    "sample_mean = df['readingScore'].mean()\n",
    "sample_std = df['readingScore'].std()\n",
    "conf_int = stats.norm.interval(.95,sample_mean,sample_std)\n",
    "\n",
    "print(f\"We are 95% certain the population mean is a value in the range {round(conf_int[0],2)} - {round(conf_int[1],2)}.\")"
   ]
  },
  {
   "cell_type": "markdown",
   "metadata": {},
   "source": [
    "This makes sense as the range of scores for the PISA reading test is 0 - 1,000."
   ]
  },
  {
   "cell_type": "markdown",
   "metadata": {},
   "source": [
    "## Tests"
   ]
  },
  {
   "cell_type": "markdown",
   "metadata": {},
   "source": [
    "Before starting our experiments, we need to know how many observations we need in order to attain a power of 0.8 given an alpha of .05."
   ]
  },
  {
   "cell_type": "code",
   "execution_count": 21,
   "metadata": {},
   "outputs": [
    {
     "data": {
      "text/plain": [
       "25.52457250047935"
      ]
     },
     "execution_count": 21,
     "metadata": {},
     "output_type": "execute_result"
    }
   ],
   "source": [
    "effect_size = 0.8\n",
    "alpha = 0.05\n",
    "power = 0.8\n",
    "power_analysis = TTestIndPower()\n",
    "sample_size = power_analysis.solve_power(effect_size = effect_size, power = power, alpha = alpha)\n",
    "\n",
    "sample_size"
   ]
  },
  {
   "cell_type": "markdown",
   "metadata": {},
   "source": [
    "From our observations, we want to conduct some hypothesis tests. The following groups were tested to see if there is a statistically significant difference in their reading scores.\n",
    "\n",
    "*Alternative Hypothesis*: There is a statistically significant difference in the reading scores of these groups.\n",
    "\n",
    "*Null Hypothesis*: There is no statistically significant difference between the reading scores of these groups."
   ]
  },
  {
   "cell_type": "markdown",
   "metadata": {},
   "source": [
    "#### Students who attend public school vs those who don't:"
   ]
  },
  {
   "cell_type": "markdown",
   "metadata": {},
   "source": [
    "In our observations we noted that the mean reading score of students who attend public school was lower than that of those who don't. "
   ]
  },
  {
   "cell_type": "code",
   "execution_count": 28,
   "metadata": {},
   "outputs": [
    {
     "name": "stdout",
     "output_type": "stream",
     "text": [
      "P-value: 3.507292993399989e-09\n",
      "We reject the null hypothesis.\n"
     ]
    }
   ],
   "source": [
    "t_statistic, p_value = ttest_ind(public_school['readingScore'],non_public_school['readingScore'],equal_var=False)\n",
    "\n",
    "print(f\"P-value: {p_value}\")\n",
    "\n",
    "if p_value < alpha/2:\n",
    "    print(\"We reject the null hypothesis.\")\n",
    "else:\n",
    "    print(\"We fail to reject the null hypothesis.\")"
   ]
  },
  {
   "cell_type": "markdown",
   "metadata": {},
   "source": [
    "This test shows us this difference is statistically significant."
   ]
  },
  {
   "cell_type": "markdown",
   "metadata": {},
   "source": [
    "#### Students with a parent from the US vs those without one:"
   ]
  },
  {
   "cell_type": "markdown",
   "metadata": {},
   "source": [
    "In our observations we noted that the mean reading score of students with a parent who was born in the US was higher than that of those who don't. "
   ]
  },
  {
   "cell_type": "code",
   "execution_count": 30,
   "metadata": {},
   "outputs": [
    {
     "name": "stdout",
     "output_type": "stream",
     "text": [
      "P-value: 2.941312755968199e-06\n",
      "We reject the null hypothesis.\n"
     ]
    }
   ],
   "source": [
    "t_statistic, p_value = ttest_ind(us_parent['readingScore'],non_us_parents['readingScore'],equal_var=False)\n",
    "\n",
    "print(f\"P-value: {p_value}\")\n",
    "\n",
    "if p_value < alpha/2:\n",
    "    print(\"We reject the null hypothesis.\")\n",
    "else:\n",
    "    print(\"We fail to reject the null hypothesis.\")"
   ]
  },
  {
   "cell_type": "markdown",
   "metadata": {},
   "source": [
    "This test shows us this difference is statistically significant."
   ]
  },
  {
   "cell_type": "code",
   "execution_count": null,
   "metadata": {},
   "outputs": [],
   "source": []
  }
 ],
 "metadata": {
  "kernelspec": {
   "display_name": "Python 3",
   "language": "python",
   "name": "python3"
  },
  "language_info": {
   "codemirror_mode": {
    "name": "ipython",
    "version": 3
   },
   "file_extension": ".py",
   "mimetype": "text/x-python",
   "name": "python",
   "nbconvert_exporter": "python",
   "pygments_lexer": "ipython3",
   "version": "3.7.4"
  }
 },
 "nbformat": 4,
 "nbformat_minor": 2
}
